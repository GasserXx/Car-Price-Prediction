{
 "cells": [
  {
   "cell_type": "markdown",
   "metadata": {},
   "source": [
    "##### Importing the libraries"
   ]
  },
  {
   "cell_type": "code",
   "execution_count": 94,
   "metadata": {},
   "outputs": [],
   "source": [
    "import pandas as pd\n",
    "import joblib\n",
    "import tkinter as tk\n",
    "from sklearn.compose import ColumnTransformer\n",
    "from sklearn.pipeline import Pipeline\n",
    "from sklearn.preprocessing import StandardScaler, OneHotEncoder\n",
    "from sklearn.linear_model import LinearRegression\n",
    "from sklearn.model_selection import train_test_split\n",
    "from sklearn.metrics import r2_score\n",
    "from tkinter import ttk, messagebox"
   ]
  },
  {
   "cell_type": "markdown",
   "metadata": {},
   "source": [
    "##### Load the dataset"
   ]
  },
  {
   "cell_type": "code",
   "execution_count": 95,
   "metadata": {},
   "outputs": [],
   "source": [
    "dataset = pd.read_csv('Car_sale_ads.csv')"
   ]
  },
  {
   "cell_type": "markdown",
   "metadata": {},
   "source": [
    "##### Drop rows with missing values"
   ]
  },
  {
   "cell_type": "code",
   "execution_count": 96,
   "metadata": {},
   "outputs": [],
   "source": [
    "dataset.dropna(inplace=True)"
   ]
  },
  {
   "cell_type": "markdown",
   "metadata": {},
   "source": [
    "##### Select relevant columns for prediction"
   ]
  },
  {
   "cell_type": "code",
   "execution_count": 97,
   "metadata": {},
   "outputs": [],
   "source": [
    "selected_columns = ['Condition', 'Vehicle_brand', 'Vehicle_model', 'Production_year', 'Mileage_km', 'Power_HP', 'Displacement_cm3', 'Fuel_type', 'Transmission', 'Type', 'Doors_number', 'Colour']\n",
    "x = dataset[selected_columns]\n",
    "y = dataset['Price']"
   ]
  },
  {
   "cell_type": "markdown",
   "metadata": {},
   "source": [
    "##### Splitting the dataset into the Training set and Test set"
   ]
  },
  {
   "cell_type": "code",
   "execution_count": 98,
   "metadata": {},
   "outputs": [],
   "source": [
    "x_train, x_test, y_train, y_test = train_test_split(x, y, test_size=0.25, random_state=0)"
   ]
  },
  {
   "cell_type": "markdown",
   "metadata": {},
   "source": [
    "##### Preprocessing pipeline"
   ]
  },
  {
   "cell_type": "code",
   "execution_count": 99,
   "metadata": {},
   "outputs": [
    {
     "data": {
      "text/html": [
       "<style>#sk-container-id-9 {color: black;}#sk-container-id-9 pre{padding: 0;}#sk-container-id-9 div.sk-toggleable {background-color: white;}#sk-container-id-9 label.sk-toggleable__label {cursor: pointer;display: block;width: 100%;margin-bottom: 0;padding: 0.3em;box-sizing: border-box;text-align: center;}#sk-container-id-9 label.sk-toggleable__label-arrow:before {content: \"▸\";float: left;margin-right: 0.25em;color: #696969;}#sk-container-id-9 label.sk-toggleable__label-arrow:hover:before {color: black;}#sk-container-id-9 div.sk-estimator:hover label.sk-toggleable__label-arrow:before {color: black;}#sk-container-id-9 div.sk-toggleable__content {max-height: 0;max-width: 0;overflow: hidden;text-align: left;background-color: #f0f8ff;}#sk-container-id-9 div.sk-toggleable__content pre {margin: 0.2em;color: black;border-radius: 0.25em;background-color: #f0f8ff;}#sk-container-id-9 input.sk-toggleable__control:checked~div.sk-toggleable__content {max-height: 200px;max-width: 100%;overflow: auto;}#sk-container-id-9 input.sk-toggleable__control:checked~label.sk-toggleable__label-arrow:before {content: \"▾\";}#sk-container-id-9 div.sk-estimator input.sk-toggleable__control:checked~label.sk-toggleable__label {background-color: #d4ebff;}#sk-container-id-9 div.sk-label input.sk-toggleable__control:checked~label.sk-toggleable__label {background-color: #d4ebff;}#sk-container-id-9 input.sk-hidden--visually {border: 0;clip: rect(1px 1px 1px 1px);clip: rect(1px, 1px, 1px, 1px);height: 1px;margin: -1px;overflow: hidden;padding: 0;position: absolute;width: 1px;}#sk-container-id-9 div.sk-estimator {font-family: monospace;background-color: #f0f8ff;border: 1px dotted black;border-radius: 0.25em;box-sizing: border-box;margin-bottom: 0.5em;}#sk-container-id-9 div.sk-estimator:hover {background-color: #d4ebff;}#sk-container-id-9 div.sk-parallel-item::after {content: \"\";width: 100%;border-bottom: 1px solid gray;flex-grow: 1;}#sk-container-id-9 div.sk-label:hover label.sk-toggleable__label {background-color: #d4ebff;}#sk-container-id-9 div.sk-serial::before {content: \"\";position: absolute;border-left: 1px solid gray;box-sizing: border-box;top: 0;bottom: 0;left: 50%;z-index: 0;}#sk-container-id-9 div.sk-serial {display: flex;flex-direction: column;align-items: center;background-color: white;padding-right: 0.2em;padding-left: 0.2em;position: relative;}#sk-container-id-9 div.sk-item {position: relative;z-index: 1;}#sk-container-id-9 div.sk-parallel {display: flex;align-items: stretch;justify-content: center;background-color: white;position: relative;}#sk-container-id-9 div.sk-item::before, #sk-container-id-9 div.sk-parallel-item::before {content: \"\";position: absolute;border-left: 1px solid gray;box-sizing: border-box;top: 0;bottom: 0;left: 50%;z-index: -1;}#sk-container-id-9 div.sk-parallel-item {display: flex;flex-direction: column;z-index: 1;position: relative;background-color: white;}#sk-container-id-9 div.sk-parallel-item:first-child::after {align-self: flex-end;width: 50%;}#sk-container-id-9 div.sk-parallel-item:last-child::after {align-self: flex-start;width: 50%;}#sk-container-id-9 div.sk-parallel-item:only-child::after {width: 0;}#sk-container-id-9 div.sk-dashed-wrapped {border: 1px dashed gray;margin: 0 0.4em 0.5em 0.4em;box-sizing: border-box;padding-bottom: 0.4em;background-color: white;}#sk-container-id-9 div.sk-label label {font-family: monospace;font-weight: bold;display: inline-block;line-height: 1.2em;}#sk-container-id-9 div.sk-label-container {text-align: center;}#sk-container-id-9 div.sk-container {/* jupyter's `normalize.less` sets `[hidden] { display: none; }` but bootstrap.min.css set `[hidden] { display: none !important; }` so we also need the `!important` here to be able to override the default hidden behavior on the sphinx rendered scikit-learn.org. See: https://github.com/scikit-learn/scikit-learn/issues/21755 */display: inline-block !important;position: relative;}#sk-container-id-9 div.sk-text-repr-fallback {display: none;}</style><div id=\"sk-container-id-9\" class=\"sk-top-container\"><div class=\"sk-text-repr-fallback\"><pre>ColumnTransformer(transformers=[(&#x27;num&#x27;, StandardScaler(),\n",
       "                                 [&#x27;Production_year&#x27;, &#x27;Mileage_km&#x27;, &#x27;Power_HP&#x27;,\n",
       "                                  &#x27;Displacement_cm3&#x27;, &#x27;Doors_number&#x27;]),\n",
       "                                (&#x27;cat&#x27;, OneHotEncoder(handle_unknown=&#x27;ignore&#x27;),\n",
       "                                 [&#x27;Condition&#x27;, &#x27;Vehicle_brand&#x27;, &#x27;Vehicle_model&#x27;,\n",
       "                                  &#x27;Fuel_type&#x27;, &#x27;Transmission&#x27;, &#x27;Type&#x27;,\n",
       "                                  &#x27;Colour&#x27;])])</pre><b>In a Jupyter environment, please rerun this cell to show the HTML representation or trust the notebook. <br />On GitHub, the HTML representation is unable to render, please try loading this page with nbviewer.org.</b></div><div class=\"sk-container\" hidden><div class=\"sk-item sk-dashed-wrapped\"><div class=\"sk-label-container\"><div class=\"sk-label sk-toggleable\"><input class=\"sk-toggleable__control sk-hidden--visually\" id=\"sk-estimator-id-49\" type=\"checkbox\" ><label for=\"sk-estimator-id-49\" class=\"sk-toggleable__label sk-toggleable__label-arrow\">ColumnTransformer</label><div class=\"sk-toggleable__content\"><pre>ColumnTransformer(transformers=[(&#x27;num&#x27;, StandardScaler(),\n",
       "                                 [&#x27;Production_year&#x27;, &#x27;Mileage_km&#x27;, &#x27;Power_HP&#x27;,\n",
       "                                  &#x27;Displacement_cm3&#x27;, &#x27;Doors_number&#x27;]),\n",
       "                                (&#x27;cat&#x27;, OneHotEncoder(handle_unknown=&#x27;ignore&#x27;),\n",
       "                                 [&#x27;Condition&#x27;, &#x27;Vehicle_brand&#x27;, &#x27;Vehicle_model&#x27;,\n",
       "                                  &#x27;Fuel_type&#x27;, &#x27;Transmission&#x27;, &#x27;Type&#x27;,\n",
       "                                  &#x27;Colour&#x27;])])</pre></div></div></div><div class=\"sk-parallel\"><div class=\"sk-parallel-item\"><div class=\"sk-item\"><div class=\"sk-label-container\"><div class=\"sk-label sk-toggleable\"><input class=\"sk-toggleable__control sk-hidden--visually\" id=\"sk-estimator-id-50\" type=\"checkbox\" ><label for=\"sk-estimator-id-50\" class=\"sk-toggleable__label sk-toggleable__label-arrow\">num</label><div class=\"sk-toggleable__content\"><pre>[&#x27;Production_year&#x27;, &#x27;Mileage_km&#x27;, &#x27;Power_HP&#x27;, &#x27;Displacement_cm3&#x27;, &#x27;Doors_number&#x27;]</pre></div></div></div><div class=\"sk-serial\"><div class=\"sk-item\"><div class=\"sk-estimator sk-toggleable\"><input class=\"sk-toggleable__control sk-hidden--visually\" id=\"sk-estimator-id-51\" type=\"checkbox\" ><label for=\"sk-estimator-id-51\" class=\"sk-toggleable__label sk-toggleable__label-arrow\">StandardScaler</label><div class=\"sk-toggleable__content\"><pre>StandardScaler()</pre></div></div></div></div></div></div><div class=\"sk-parallel-item\"><div class=\"sk-item\"><div class=\"sk-label-container\"><div class=\"sk-label sk-toggleable\"><input class=\"sk-toggleable__control sk-hidden--visually\" id=\"sk-estimator-id-52\" type=\"checkbox\" ><label for=\"sk-estimator-id-52\" class=\"sk-toggleable__label sk-toggleable__label-arrow\">cat</label><div class=\"sk-toggleable__content\"><pre>[&#x27;Condition&#x27;, &#x27;Vehicle_brand&#x27;, &#x27;Vehicle_model&#x27;, &#x27;Fuel_type&#x27;, &#x27;Transmission&#x27;, &#x27;Type&#x27;, &#x27;Colour&#x27;]</pre></div></div></div><div class=\"sk-serial\"><div class=\"sk-item\"><div class=\"sk-estimator sk-toggleable\"><input class=\"sk-toggleable__control sk-hidden--visually\" id=\"sk-estimator-id-53\" type=\"checkbox\" ><label for=\"sk-estimator-id-53\" class=\"sk-toggleable__label sk-toggleable__label-arrow\">OneHotEncoder</label><div class=\"sk-toggleable__content\"><pre>OneHotEncoder(handle_unknown=&#x27;ignore&#x27;)</pre></div></div></div></div></div></div></div></div></div></div>"
      ],
      "text/plain": [
       "ColumnTransformer(transformers=[('num', StandardScaler(),\n",
       "                                 ['Production_year', 'Mileage_km', 'Power_HP',\n",
       "                                  'Displacement_cm3', 'Doors_number']),\n",
       "                                ('cat', OneHotEncoder(handle_unknown='ignore'),\n",
       "                                 ['Condition', 'Vehicle_brand', 'Vehicle_model',\n",
       "                                  'Fuel_type', 'Transmission', 'Type',\n",
       "                                  'Colour'])])"
      ]
     },
     "execution_count": 99,
     "metadata": {},
     "output_type": "execute_result"
    }
   ],
   "source": [
    "numeric_features = ['Production_year', 'Mileage_km', 'Power_HP', 'Displacement_cm3', 'Doors_number']\n",
    "categorical_features = ['Condition', 'Vehicle_brand', 'Vehicle_model', 'Fuel_type', 'Transmission', 'Type', 'Colour']\n",
    "\n",
    "numeric_transformer = StandardScaler()\n",
    "categorical_transformer = OneHotEncoder(handle_unknown='ignore')\n",
    "\n",
    "preprocessor = ColumnTransformer(\n",
    "    transformers=[\n",
    "        ('num', numeric_transformer, numeric_features),\n",
    "        ('cat', categorical_transformer, categorical_features)\n",
    "    ])\n",
    "preprocessor"
   ]
  },
  {
   "cell_type": "markdown",
   "metadata": {},
   "source": [
    "##### Create and fit the model"
   ]
  },
  {
   "cell_type": "code",
   "execution_count": 100,
   "metadata": {},
   "outputs": [
    {
     "data": {
      "text/html": [
       "<style>#sk-container-id-10 {color: black;}#sk-container-id-10 pre{padding: 0;}#sk-container-id-10 div.sk-toggleable {background-color: white;}#sk-container-id-10 label.sk-toggleable__label {cursor: pointer;display: block;width: 100%;margin-bottom: 0;padding: 0.3em;box-sizing: border-box;text-align: center;}#sk-container-id-10 label.sk-toggleable__label-arrow:before {content: \"▸\";float: left;margin-right: 0.25em;color: #696969;}#sk-container-id-10 label.sk-toggleable__label-arrow:hover:before {color: black;}#sk-container-id-10 div.sk-estimator:hover label.sk-toggleable__label-arrow:before {color: black;}#sk-container-id-10 div.sk-toggleable__content {max-height: 0;max-width: 0;overflow: hidden;text-align: left;background-color: #f0f8ff;}#sk-container-id-10 div.sk-toggleable__content pre {margin: 0.2em;color: black;border-radius: 0.25em;background-color: #f0f8ff;}#sk-container-id-10 input.sk-toggleable__control:checked~div.sk-toggleable__content {max-height: 200px;max-width: 100%;overflow: auto;}#sk-container-id-10 input.sk-toggleable__control:checked~label.sk-toggleable__label-arrow:before {content: \"▾\";}#sk-container-id-10 div.sk-estimator input.sk-toggleable__control:checked~label.sk-toggleable__label {background-color: #d4ebff;}#sk-container-id-10 div.sk-label input.sk-toggleable__control:checked~label.sk-toggleable__label {background-color: #d4ebff;}#sk-container-id-10 input.sk-hidden--visually {border: 0;clip: rect(1px 1px 1px 1px);clip: rect(1px, 1px, 1px, 1px);height: 1px;margin: -1px;overflow: hidden;padding: 0;position: absolute;width: 1px;}#sk-container-id-10 div.sk-estimator {font-family: monospace;background-color: #f0f8ff;border: 1px dotted black;border-radius: 0.25em;box-sizing: border-box;margin-bottom: 0.5em;}#sk-container-id-10 div.sk-estimator:hover {background-color: #d4ebff;}#sk-container-id-10 div.sk-parallel-item::after {content: \"\";width: 100%;border-bottom: 1px solid gray;flex-grow: 1;}#sk-container-id-10 div.sk-label:hover label.sk-toggleable__label {background-color: #d4ebff;}#sk-container-id-10 div.sk-serial::before {content: \"\";position: absolute;border-left: 1px solid gray;box-sizing: border-box;top: 0;bottom: 0;left: 50%;z-index: 0;}#sk-container-id-10 div.sk-serial {display: flex;flex-direction: column;align-items: center;background-color: white;padding-right: 0.2em;padding-left: 0.2em;position: relative;}#sk-container-id-10 div.sk-item {position: relative;z-index: 1;}#sk-container-id-10 div.sk-parallel {display: flex;align-items: stretch;justify-content: center;background-color: white;position: relative;}#sk-container-id-10 div.sk-item::before, #sk-container-id-10 div.sk-parallel-item::before {content: \"\";position: absolute;border-left: 1px solid gray;box-sizing: border-box;top: 0;bottom: 0;left: 50%;z-index: -1;}#sk-container-id-10 div.sk-parallel-item {display: flex;flex-direction: column;z-index: 1;position: relative;background-color: white;}#sk-container-id-10 div.sk-parallel-item:first-child::after {align-self: flex-end;width: 50%;}#sk-container-id-10 div.sk-parallel-item:last-child::after {align-self: flex-start;width: 50%;}#sk-container-id-10 div.sk-parallel-item:only-child::after {width: 0;}#sk-container-id-10 div.sk-dashed-wrapped {border: 1px dashed gray;margin: 0 0.4em 0.5em 0.4em;box-sizing: border-box;padding-bottom: 0.4em;background-color: white;}#sk-container-id-10 div.sk-label label {font-family: monospace;font-weight: bold;display: inline-block;line-height: 1.2em;}#sk-container-id-10 div.sk-label-container {text-align: center;}#sk-container-id-10 div.sk-container {/* jupyter's `normalize.less` sets `[hidden] { display: none; }` but bootstrap.min.css set `[hidden] { display: none !important; }` so we also need the `!important` here to be able to override the default hidden behavior on the sphinx rendered scikit-learn.org. See: https://github.com/scikit-learn/scikit-learn/issues/21755 */display: inline-block !important;position: relative;}#sk-container-id-10 div.sk-text-repr-fallback {display: none;}</style><div id=\"sk-container-id-10\" class=\"sk-top-container\"><div class=\"sk-text-repr-fallback\"><pre>Pipeline(steps=[(&#x27;preprocessor&#x27;,\n",
       "                 ColumnTransformer(transformers=[(&#x27;num&#x27;, StandardScaler(),\n",
       "                                                  [&#x27;Production_year&#x27;,\n",
       "                                                   &#x27;Mileage_km&#x27;, &#x27;Power_HP&#x27;,\n",
       "                                                   &#x27;Displacement_cm3&#x27;,\n",
       "                                                   &#x27;Doors_number&#x27;]),\n",
       "                                                 (&#x27;cat&#x27;,\n",
       "                                                  OneHotEncoder(handle_unknown=&#x27;ignore&#x27;),\n",
       "                                                  [&#x27;Condition&#x27;, &#x27;Vehicle_brand&#x27;,\n",
       "                                                   &#x27;Vehicle_model&#x27;, &#x27;Fuel_type&#x27;,\n",
       "                                                   &#x27;Transmission&#x27;, &#x27;Type&#x27;,\n",
       "                                                   &#x27;Colour&#x27;])])),\n",
       "                (&#x27;regressor&#x27;, LinearRegression())])</pre><b>In a Jupyter environment, please rerun this cell to show the HTML representation or trust the notebook. <br />On GitHub, the HTML representation is unable to render, please try loading this page with nbviewer.org.</b></div><div class=\"sk-container\" hidden><div class=\"sk-item sk-dashed-wrapped\"><div class=\"sk-label-container\"><div class=\"sk-label sk-toggleable\"><input class=\"sk-toggleable__control sk-hidden--visually\" id=\"sk-estimator-id-54\" type=\"checkbox\" ><label for=\"sk-estimator-id-54\" class=\"sk-toggleable__label sk-toggleable__label-arrow\">Pipeline</label><div class=\"sk-toggleable__content\"><pre>Pipeline(steps=[(&#x27;preprocessor&#x27;,\n",
       "                 ColumnTransformer(transformers=[(&#x27;num&#x27;, StandardScaler(),\n",
       "                                                  [&#x27;Production_year&#x27;,\n",
       "                                                   &#x27;Mileage_km&#x27;, &#x27;Power_HP&#x27;,\n",
       "                                                   &#x27;Displacement_cm3&#x27;,\n",
       "                                                   &#x27;Doors_number&#x27;]),\n",
       "                                                 (&#x27;cat&#x27;,\n",
       "                                                  OneHotEncoder(handle_unknown=&#x27;ignore&#x27;),\n",
       "                                                  [&#x27;Condition&#x27;, &#x27;Vehicle_brand&#x27;,\n",
       "                                                   &#x27;Vehicle_model&#x27;, &#x27;Fuel_type&#x27;,\n",
       "                                                   &#x27;Transmission&#x27;, &#x27;Type&#x27;,\n",
       "                                                   &#x27;Colour&#x27;])])),\n",
       "                (&#x27;regressor&#x27;, LinearRegression())])</pre></div></div></div><div class=\"sk-serial\"><div class=\"sk-item sk-dashed-wrapped\"><div class=\"sk-label-container\"><div class=\"sk-label sk-toggleable\"><input class=\"sk-toggleable__control sk-hidden--visually\" id=\"sk-estimator-id-55\" type=\"checkbox\" ><label for=\"sk-estimator-id-55\" class=\"sk-toggleable__label sk-toggleable__label-arrow\">preprocessor: ColumnTransformer</label><div class=\"sk-toggleable__content\"><pre>ColumnTransformer(transformers=[(&#x27;num&#x27;, StandardScaler(),\n",
       "                                 [&#x27;Production_year&#x27;, &#x27;Mileage_km&#x27;, &#x27;Power_HP&#x27;,\n",
       "                                  &#x27;Displacement_cm3&#x27;, &#x27;Doors_number&#x27;]),\n",
       "                                (&#x27;cat&#x27;, OneHotEncoder(handle_unknown=&#x27;ignore&#x27;),\n",
       "                                 [&#x27;Condition&#x27;, &#x27;Vehicle_brand&#x27;, &#x27;Vehicle_model&#x27;,\n",
       "                                  &#x27;Fuel_type&#x27;, &#x27;Transmission&#x27;, &#x27;Type&#x27;,\n",
       "                                  &#x27;Colour&#x27;])])</pre></div></div></div><div class=\"sk-parallel\"><div class=\"sk-parallel-item\"><div class=\"sk-item\"><div class=\"sk-label-container\"><div class=\"sk-label sk-toggleable\"><input class=\"sk-toggleable__control sk-hidden--visually\" id=\"sk-estimator-id-56\" type=\"checkbox\" ><label for=\"sk-estimator-id-56\" class=\"sk-toggleable__label sk-toggleable__label-arrow\">num</label><div class=\"sk-toggleable__content\"><pre>[&#x27;Production_year&#x27;, &#x27;Mileage_km&#x27;, &#x27;Power_HP&#x27;, &#x27;Displacement_cm3&#x27;, &#x27;Doors_number&#x27;]</pre></div></div></div><div class=\"sk-serial\"><div class=\"sk-item\"><div class=\"sk-estimator sk-toggleable\"><input class=\"sk-toggleable__control sk-hidden--visually\" id=\"sk-estimator-id-57\" type=\"checkbox\" ><label for=\"sk-estimator-id-57\" class=\"sk-toggleable__label sk-toggleable__label-arrow\">StandardScaler</label><div class=\"sk-toggleable__content\"><pre>StandardScaler()</pre></div></div></div></div></div></div><div class=\"sk-parallel-item\"><div class=\"sk-item\"><div class=\"sk-label-container\"><div class=\"sk-label sk-toggleable\"><input class=\"sk-toggleable__control sk-hidden--visually\" id=\"sk-estimator-id-58\" type=\"checkbox\" ><label for=\"sk-estimator-id-58\" class=\"sk-toggleable__label sk-toggleable__label-arrow\">cat</label><div class=\"sk-toggleable__content\"><pre>[&#x27;Condition&#x27;, &#x27;Vehicle_brand&#x27;, &#x27;Vehicle_model&#x27;, &#x27;Fuel_type&#x27;, &#x27;Transmission&#x27;, &#x27;Type&#x27;, &#x27;Colour&#x27;]</pre></div></div></div><div class=\"sk-serial\"><div class=\"sk-item\"><div class=\"sk-estimator sk-toggleable\"><input class=\"sk-toggleable__control sk-hidden--visually\" id=\"sk-estimator-id-59\" type=\"checkbox\" ><label for=\"sk-estimator-id-59\" class=\"sk-toggleable__label sk-toggleable__label-arrow\">OneHotEncoder</label><div class=\"sk-toggleable__content\"><pre>OneHotEncoder(handle_unknown=&#x27;ignore&#x27;)</pre></div></div></div></div></div></div></div></div><div class=\"sk-item\"><div class=\"sk-estimator sk-toggleable\"><input class=\"sk-toggleable__control sk-hidden--visually\" id=\"sk-estimator-id-60\" type=\"checkbox\" ><label for=\"sk-estimator-id-60\" class=\"sk-toggleable__label sk-toggleable__label-arrow\">LinearRegression</label><div class=\"sk-toggleable__content\"><pre>LinearRegression()</pre></div></div></div></div></div></div></div>"
      ],
      "text/plain": [
       "Pipeline(steps=[('preprocessor',\n",
       "                 ColumnTransformer(transformers=[('num', StandardScaler(),\n",
       "                                                  ['Production_year',\n",
       "                                                   'Mileage_km', 'Power_HP',\n",
       "                                                   'Displacement_cm3',\n",
       "                                                   'Doors_number']),\n",
       "                                                 ('cat',\n",
       "                                                  OneHotEncoder(handle_unknown='ignore'),\n",
       "                                                  ['Condition', 'Vehicle_brand',\n",
       "                                                   'Vehicle_model', 'Fuel_type',\n",
       "                                                   'Transmission', 'Type',\n",
       "                                                   'Colour'])])),\n",
       "                ('regressor', LinearRegression())])"
      ]
     },
     "execution_count": 100,
     "metadata": {},
     "output_type": "execute_result"
    }
   ],
   "source": [
    "regressor = LinearRegression()\n",
    "model = Pipeline(steps=[('preprocessor', preprocessor), ('regressor', regressor)])\n",
    "model.fit(x_train, y_train)"
   ]
  },
  {
   "cell_type": "markdown",
   "metadata": {},
   "source": [
    "Predicting the Test set results"
   ]
  },
  {
   "cell_type": "code",
   "execution_count": 101,
   "metadata": {},
   "outputs": [],
   "source": [
    "y_pred = model.predict(x_test)"
   ]
  },
  {
   "cell_type": "markdown",
   "metadata": {},
   "source": [
    "Extracting the model file"
   ]
  },
  {
   "cell_type": "code",
   "execution_count": 102,
   "metadata": {},
   "outputs": [
    {
     "data": {
      "text/plain": [
       "['Ultimate Model.pkl']"
      ]
     },
     "execution_count": 102,
     "metadata": {},
     "output_type": "execute_result"
    }
   ],
   "source": [
    "joblib.dump(model, 'Ultimate Model.pkl')"
   ]
  },
  {
   "cell_type": "markdown",
   "metadata": {},
   "source": [
    "Calculate R-squared for the entire dataset"
   ]
  },
  {
   "cell_type": "code",
   "execution_count": 103,
   "metadata": {},
   "outputs": [
    {
     "name": "stdout",
     "output_type": "stream",
     "text": [
      "R-squared: 0.79981248687345\n"
     ]
    }
   ],
   "source": [
    "r2 = r2_score(y_test, y_pred)\n",
    "\n",
    "print(\"R-squared:\",r2)"
   ]
  },
  {
   "cell_type": "markdown",
   "metadata": {},
   "source": [
    "Load the trained model"
   ]
  },
  {
   "cell_type": "code",
   "execution_count": 104,
   "metadata": {},
   "outputs": [],
   "source": [
    "loaded_model = joblib.load('Ultimate Model.pkl')"
   ]
  },
  {
   "cell_type": "markdown",
   "metadata": {},
   "source": [
    "Define the UI function"
   ]
  },
  {
   "cell_type": "code",
   "execution_count": 105,
   "metadata": {},
   "outputs": [],
   "source": [
    "def predict_price():\n",
    "    user_inputs = {}\n",
    "    for column in selected_columns:\n",
    "        user_input = entry_vars[column].get()\n",
    "        user_inputs[column] = [user_input]\n",
    "\n",
    "    user_df = pd.DataFrame(user_inputs)\n",
    "\n",
    "    try:\n",
    "        predicted_price = loaded_model.predict(user_df)[0]\n",
    "        result_label.config(text=f\"Predicted Price: {predicted_price:.2f}\")\n",
    "    except:\n",
    "        messagebox.showerror(\"Error\", \"Prediction failed. Please check your inputs.\")"
   ]
  },
  {
   "cell_type": "markdown",
   "metadata": {},
   "source": [
    "Validation functions"
   ]
  },
  {
   "cell_type": "code",
   "execution_count": 106,
   "metadata": {},
   "outputs": [],
   "source": [
    "def validate_production_year(P):\n",
    "    if P.isdigit() and 0 <= int(P) <= 2024:\n",
    "        return True\n",
    "    return False\n",
    "\n",
    "def validate_mileage(m):\n",
    "    if m.isdigit() and 0 <= int(m) <= 3000000:\n",
    "        return True\n",
    "    return False\n",
    "\n",
    "def validate_power(power):\n",
    "    if power.isdigit() and 0 <= int(power) <= 1500:\n",
    "        return True\n",
    "    return False\n",
    "\n",
    "def validate_displacement(displacement):\n",
    "    if displacement.isdigit() and 0 <= int(displacement) <= 10000:\n",
    "        return True\n",
    "    return False"
   ]
  },
  {
   "cell_type": "markdown",
   "metadata": {},
   "source": [
    "Load the dataset and selected columns"
   ]
  },
  {
   "cell_type": "code",
   "execution_count": 107,
   "metadata": {},
   "outputs": [],
   "source": [
    "dataset = pd.read_csv('Car_sale_ads.csv')\n",
    "selected_columns = ['Condition', 'Vehicle_brand', 'Vehicle_model', 'Production_year', 'Mileage_km', 'Power_HP', 'Displacement_cm3', 'Fuel_type', 'Transmission', 'Type', 'Doors_number', 'Colour']"
   ]
  },
  {
   "cell_type": "code",
   "execution_count": 108,
   "metadata": {},
   "outputs": [],
   "source": [
    "# Available vehicle brands\n",
    "available_brands = ['Abarth', 'Acura', 'Aixam', 'Alfa Romeo', 'Alpine', 'Aston Martin', 'Audi', 'Austin', 'Autobianchi', 'Baic', 'Bentley', 'BMW', 'Buick', 'Cadillac', 'Casalini', 'Chatenet', 'Chevrolet', 'Chrysler', 'Citroën', 'Cupra', 'Dacia', 'Daewoo', 'Daihatsu', 'DFSK', 'DKW', 'Dodge', 'DS Automobiles', 'FAW', 'Ferrari', 'Fiat', 'Ford', 'Gaz', 'GMC', 'Grecav', 'Honda', 'Hummer', 'Hyundai', 'Infiniti', 'Isuzu', 'Iveco', 'Jaguar', 'Jeep', 'Kia', 'Lada', 'Lamborghini', 'Lancia', 'Land Rover', 'Lexus', 'Ligier', 'Lincoln', 'Lotus', 'MAN', 'Warszawa', 'Maserati', 'Maybach', 'Mazda', 'McLaren', 'Mercedes-Benz', 'Mercury', 'MG', 'Microcar', 'MINI', 'Mitsubishi', 'Moskwicz', 'Nissan', 'NSU', 'Nysa', 'Oldsmobile', 'Opel', 'Inny', 'Toyota', 'Tata', 'Uaz', 'Żuk', 'Trabant', 'Suzuki', 'Volvo', 'Volkswagen', 'Subaru', 'Zastava', 'SsangYong', 'Saab', 'Plymouth', 'Rolls-Royce', 'Renault', 'Peugeot', 'RAM', 'Triumph', 'Rover', 'Porsche', 'Wołga', 'Tarpan', 'Zaporozhets', 'Polonez', 'Pontiac', 'Santana', 'Saturn', 'Scion', 'Seat', 'Škoda', 'Smart', 'Syrena', 'Talbot', 'Tavria', 'Tesla', 'Vanderhall', 'Vauxhall', 'Wartburg']\n",
    "\n",
    "# Available vehicle models\n",
    "available_models = ['595', 'Other', '500', 'Grande Punto', '124', 'RDX', 'TSX', 'MDX', 'TL', 'RL', 'City', 'Crossover', 'Crossline', 'A721', 'Coupe', 'GTO', 'Scouty R', 'A751', 'Roadline', 'A741', 'Scouty', 'Giulia', '164', '147', '159', 'GT', 'Giulietta', 'Brera', 'Stelvio', 'Mito', 'Spider', '166', 'Sportwagon', 'GTV', '156', '145', '146', 'Crosswagon', '155', '4C', 'A110', 'DB9', 'V8 Vantage', 'DB7', 'DBX', 'DBS Superleggera', 'DB11', 'Rapide', 'Vantage', '100', '80', '90', 'A1', 'A2', 'A3', 'A4 Allroad', 'A4', 'A5', 'A6 Allroad', 'A6', 'A7', 'A8', 'Cabriolet', 'e-tron', 'Q2', 'Q3', 'Q5', 'Q7', 'Q8', 'R8', 'RS Q3', 'RS Q8', 'RS3', 'RS4', 'RS5', 'RS6', 'RS7', 'S1', 'S3', 'S4', 'S5', 'S6', 'S7', 'S8', 'SQ5', 'SQ7', 'SQ8', 'TT RS', 'TT S', 'TT', 'Mini', 'Allegro', 'Bianchina', 'Senova X25', 'Senova X55', 'Senova X35', 'Bentayga', 'Continental Flying Spur', 'Continental GT', 'Mulsanne', 'Arnage', '1M', '3GT', 'Seria 3', '5GT', '6GT', 'i3', 'i8', 'M2', 'M3', 'M4', 'M5', 'M6', 'M8', 'Seria 1', 'Seria 2', 'Seria 4', 'Seria 5', 'Seria 6', 'Seria 7', 'Seria 8', 'X1', 'X2', 'X3 M', 'X3', 'X4', 'X5 M', 'X5', 'X6 M', 'X6', 'X7', 'Z3', 'Z4', 'Park Avenue', 'Riviera', 'Electra', 'Enclave', 'Reatta', 'Century', 'Regal', 'Lacrosse', 'Le Sabre', 'Rendezvous', 'Roadmaster', 'Escalade', 'CTS', 'Eldorado', 'Seville', 'SRX', 'BLS', 'STS', 'XT5', 'ATS', 'Deville', 'CT6', 'Brougham', 'DTS', 'XLR', 'XTS', 'Fleetwood', 'M14', 'Sulky', 'CH26', 'CH22 Barooder', 'CH32', 'Media', 'Cruze', 'Captiva', 'Corvette', 'Matiz', 'Equinox', 'Orlando', 'Trax', 'Spark', 'Camaro', 'Evanda', 'Aveo', 'Express', 'Lacetti', 'Nubira', 'HHR', 'K1500', 'Trans Sport', 'Kalos', 'Caprice', 'Suburban', 'Epica', 'Tahoe', 'Tacuma', 'Volt', 'Malibu', 'Astro', 'Traverse', 'Blazer', 'Trailblazer', 'Silverado', 'Chevy Van', 'Alero', 'S-10', 'Impala', 'Avalanche', 'Colorado', 'Venture', 'Monte Carlo', 'Rezzo', 'Bolt', 'Apache', 'El Camino', 'C-10', '3500', '200', '300C', 'Pacifica', 'Grand Voyager', 'PT Cruiser', 'Crossfire', 'Aspen', 'Town & Country', 'New Yorker', 'Sebring', '300s', 'Voyager', 'Neon', '300M', '300', 'Stratus', 'Prowler', 'Vision', 'Le Baron', 'C1', 'Xsara Picasso', 'C5 Aircross', 'C4', 'Berlingo', 'C4 Picasso', 'C3 Aircross', 'C3', 'C3 Picasso', 'SpaceTourer', 'C4 SpaceTourer', 'Xsara', 'C4 Aircross', 'C8', 'DS4', 'Jumpy Combi', 'C4 Grand Picasso', 'C-Elysée', 'C5', 'DS5', 'DS3', '2 CV', 'C4 Cactus', 'C6', 'Jumper', 'C2', 'XM', 'C-Crosser', 'BX', 'Nemo', 'C3 Pluriel', 'ZX', 'Evasion', 'Saxo', 'Xantia', 'DS', 'AX', 'Ateca', 'Formentor', 'Leon', 'Leon Sportstourer', 'Duster', 'Dokker', 'Sandero', 'Lodgy', 'Sandero Stepway', 'Logan', 'Dokker Van', 'Logan Van', '1300', 'Tico', 'Lanos', 'MUSSO', 'Chairman', 'Espero', 'Leganza', 'Sirion', 'Feroza', 'Terios', 'YRV', 'Cuore', 'Materia', 'Trevis', 'Rocky', 'Charade', 'Fengon 5', 'Glory 580', 'Durango', 'Challenger', 'Journey', 'Nitro', 'Charger', 'Grand Caravan', 'Caliber', 'Viper', 'Magnum', 'Avenger', 'Dart', 'Caravan', 'Dakota', 'DS 5', 'DS 3 Crossback', 'DS 7 Crossback', 'DS 3', 'DS 4', 'DS 4 Crossback', 'HQ', '488', 'FF', '458 Italia', 'Roma', '599GTB', 'California', 'F8 Tributo', 'Portofino', 'F360', '360', 'F430', '488 Pista', 'GTC4Lusso', '400', 'F355', '308', '812 Superfast', '348', 'F12berlinetta', 'Mondial', '575', 'Testarossa', '208', 'Doblo', 'Panda', 'Tipo', 'Stilo', 'Cinquecento', '500X', '500L', 'Punto', 'Albea', 'Bravo', 'Seicento', 'Freemont', 'Punto Evo', 'Ducato', 'Fiorino', 'Scudo', 'Marea', '126', 'Sedici', 'Qubo', '600', 'Multipla', 'Punto 2012', 'Croma', 'Idea', 'Uno', 'Brava', '127', 'Linea', '125p', 'Ulysse', 'Talento', 'Siena', 'Fullback', 'Barchetta', '124 Spider', 'Strada', '131', 'Palio', '128', 'X 1', 'Tempra', 'B-MAX', 'C-MAX', 'Capri', 'Cougar', 'Courier', 'Crown', 'Econoline', 'EcoSport', 'EDGE', 'Escape', 'Escort', 'Excursion', 'Expedition', 'Explorer', 'F150', 'F250', 'F350', 'Fairlane', 'Fiesta', 'Flex', 'Focus C-Max', 'Focus', 'Freestar', 'Fusion', 'Galaxy', 'Granada', 'Grand C-MAX', 'KA', 'Ka+', 'Kuga', 'Maverick', 'Mercury', 'Mondeo', 'Mustang Mach-E', 'Mustang', 'Orion', 'Probe', 'Puma', 'Ranchero', 'Ranger Raptor', 'Ranger', 'S-Max', 'Scorpio', 'Sierra', 'Streetka', 'Taunus', 'Taurus', 'Thunderbird', 'Tourneo Connect', 'Tourneo Courier', 'Tourneo Custom', 'Transit Connect', 'Transit Courier', 'Transit Custom', 'Transit', 'Windstar', '69', 'Safari', 'Yukon', 'Envoy', 'Savana', 'Terrain', 'CR-V', 'Accord', 'Civic', 'Jazz', 'HR-V', 'Odyssey', 'FR-V', 'Prelude', 'Legend', 'Insight', 'S 2000', 'CR-Z', 'CRX', 'Stream', 'Pilot', 'Ridgeline', 'Integra', 'H2', 'H3', 'H1', 'ix35', 'I30', 'i40', 'Tucson', 'i10', 'Getz', 'i20', 'Veloster', 'ix20', 'Elantra', 'Santa Fe', 'Matrix', 'Kona', 'Accent', 'Genesis Coupe', 'Atos', 'Sonata', 'Terracan', 'H-1', 'IONIQ', 'ix55', 'i30 N', 'Galloper', 'Genesis', 'Trajet', 'i25', 'Grandeur', 'Grand Santa Fe', 'Pony', 'H-1 Starex', 'XG 30', 'Sonica', 'Azera', 'FX', 'Q50', 'QX70', 'G', 'EX', 'Q70', 'Q30', 'Q60', 'QX50', 'QX80', 'QX30', 'M', 'QX60', 'QX', 'D-Max', 'Massif', 'XF', 'XE', 'X-Type', 'E-Pace', 'F-Pace', 'XJ', 'XJS', 'S-Type', 'Daimler', 'XK', 'XK8', 'F-Type', 'I-Pace', 'MK II', 'E-Type', 'S-Type R', 'XJSC', 'Renegade', 'Cherokee', 'Wrangler', 'Grand Cherokee', 'Patriot', 'Compass', 'Gladiator', 'CJ', 'Commander', 'Liberty', 'Comanche', 'Wagoneer', 'Willys', 'Rio', 'Niro', 'Venga', 'Soul', 'Sportage', 'Picanto', 'Ceed', 'Stonic', 'Optima', 'Pro_ceed', 'XCeed', 'Carens', 'Sorento', 'Magentis', 'Stinger', 'Opirus', 'Cerato', 'Carnival', 'Shuma', 'Joice', 'Sedona', 'Clarus', 'Niva', '2108', '2101', 'Kalina', 'Samara', '1117', '1118', 'Huracan', 'Murcielago', 'Gallardo', 'Urus', 'Diablo', 'Aventador', 'Countach', 'Delta', 'Ypsilon', 'Fulvia', 'Lybra', 'Phedra', 'Musa', 'Thema', 'Thesis', 'Kappa', 'Gamma', 'Discovery Sport', 'Discovery', 'Range Rover Evoque', 'Freelander', 'Range Rover', 'Range Rover Sport', 'Range Rover Velar', 'Defender', 'RC', 'IS', 'NX', 'GS', 'SC', 'RX', 'CT', 'ES', 'LS', 'UX', 'LX', 'LC', 'HS 250h', 'GX', 'JS50', 'X-Too Max', 'JS50L', 'X-Too', 'Nova', 'IXO', 'Ambra', 'JS RC', 'Navigator', 'Town Car', 'Continental', 'Mark LT', 'Aviator', 'MKX', 'MKZ', 'Mark', 'Evora', 'Super Seven', 'TGE', '224', 'M-20', '203', 'Quattroporte', 'GranTurismo', 'Ghibli', 'Levante', 'GranCabrio', '4200', 'Biturbo', '3200', '57', '3', 'CX-3', 'CX-5', '6', '2', '5', '323F', 'CX-7', 'MX-5', '323', 'RX-8', 'CX-30', 'Premacy', 'CX-9', 'MX-3', '626', 'Xedos', 'Protege', 'Tribute', 'RX-7', '929', '121', 'MX-30', 'MPV', 'Demio', 'BT-50', 'Millenia', '570 GT', '570S Coupe', 'MP4-12C', '720S Coupe', '600LT Spider', '720S Spider', '570S Spider', 'altul', 'Klasa B', 'Klasa E', 'GLS', 'Klasa C', 'CLA', 'CLS', 'Klasa A', 'CLK', 'Vito', 'Klasa S', 'W201 (190)', 'ML', 'EQA', 'GLC', 'GLA', 'GLE', 'GLB', 'GLK', 'W124 (1984-1993)', 'Viano', 'Sprinter', 'AMG GT', 'Klasa V', 'CL', 'SL', 'SLK', 'Klasa R', 'GL', 'Citan', 'Klasa G', 'CLC', '280', 'W123', 'Klasa X', 'Vaneo', 'EQC', 'EQV', 'SLC', 'SLS', 'Marquis', 'MGF', 'TD', 'ZR', 'ZS', 'MGB', 'MGA', 'TF', 'ZT', 'Midget', 'Virgo', 'DUE First', 'MC', 'M.GO', 'Highland X', 'DUE', 'Ligier', 'Countryman', 'ONE', 'Cooper S', 'Clubman', 'Cooper', 'Paceman', 'Lancer', 'Space Star', 'ASX', 'Outlander', 'L200', 'Eclipse Cross', 'Carisma', 'Pajero Pinin', 'Colt', 'Montero', 'Lancer Evolution', 'Grandis', 'Pajero', 'Galant', '3000GT', 'L300', 'Space Wagon', 'Endeavor', 'Eclipse', 'i-MiEV', 'Space Gear', 'L400', 'Space Runner', 'Sigma', '407', '402', '408', '403', '2141', 'Note', 'Juke', 'Leaf', 'Micra', 'Qashqai', 'Almera', 'X-Trail', 'Navara', 'Primera', 'Murano', 'Patrol', 'Frontier', 'Qashqai+2', 'Pathfinder', 'Almera Tino', 'Tiida', '300 ZX', 'Pulsar', 'Terrano', 'Sentra', 'Sunny', 'Pixo', '370 Z', 'Primastar', 'GT-R', 'NV200', 'NP300 Pickup', 'NV300', 'Altima', '280 ZX', 'Quest', 'King Cab', 'Rogue', '350 Z', 'Bluebird', '100 NX', 'Interstar', 'Titan', 'Laurel', 'Maxima', 'Pickup', 'Cube', 'Skyline', 'Kubistar', '200 SX', '1000', 'Seria 500', 'Bravada', 'Aurora', 'Delta 88', 'Cutlass', 'Regency', 'Toronado', 'Eighty - Eight', 'Adam', 'Agila', 'Ampera', 'Antara', 'Ascona', 'Astra', 'Calibra', 'Campo', 'Cascada', 'Combo', 'Commodore', 'Corsa', 'Crossland X', 'Frontera', 'Grandland X', 'Insignia', 'Kadett', 'Karl', 'Manta', 'Meriva', 'Mokka', 'Monterey', 'Monza', 'Movano', 'Omega', 'Rekord', 'Signum', 'Sintra', 'Speedster', 'Tigra', 'Vectra', 'Vivaro', 'Zafira', '307', '5008', '3008', '508', '207', '206', '309', 'Partner', '807', '107', '407 SW', '206 CC', '407 Coupe', '4007', '1007', '308', '107 SW', '407 Van', '207 SW', '207 Van', '607', '406', '807 Combi', '208', 'RCZ', '106', '206 Van', 'Bipper', '206 SW', '106 Van', '308 CC', '208 GTi', '5008 Van', 'Ion', '301', '108', '500L', 'Ypsilon', 'Delta', 'Zeta', 'Voyager', 'Thesis', 'Phedra', 'Lybra', 'Musica', 'Aurelia', 'Dedra', 'D19', 'Hyena', 'Stratos', 'Delta S4', 'Stratos HF', 'Thema 8.32', 'A112', 'Croma', 'Y10', 'Prisma', 'Prisma 4WD', 'Gamma Coupe', 'A12', 'April', 'HF', 'Beta', 'Beta Coupe', 'Beta HPE', 'Beta Spider', 'Dolcevita', 'Flaminia', 'Fulvia Coupe', 'Fulvia Spider', 'Montecarlo', 'Thema 8.32 Station Wagon', 'Appia', 'Appia Convertibile', 'Flaminia Convertibile', 'Flaminia Coupé', 'Flaminia Sport', 'Flaminia Supersport', 'Fulvia Coupé', 'Fulvia Convertibile', 'Hyena Zagato', 'Musa', 'Thesis Coupé', 'Lybra Coupé', 'Thesis Coupé 7.000', 'Thesis Bicolore', 'Thesis Sport', 'Thesis R', 'Thesis Sport 2009', 'Thesis Bellagio', 'Delta GT', 'Gamma 2.5i V6', 'Thesis Prototipo', 'D24', 'EVC', 'SV', 'Aquila', 'Fulvia Sport', 'GT', 'Thema Station Wagon', 'Eptajota', 'Zagato', 'Lima', 'Golf', 'Passat', 'Jetta', 'Polo', 'Scirocco', 'Touran', 'Touareg', 'Tiguan', 'Golf Plus', 'Phaeton', 'Bora', 'Eos', 'Sharan', 'Fox', 'Lupo', 'Caddy', 'Transporter', 'Amarok', 'Arteon', 'Atlas', 'CC', 'Passat CC', 'California', 'XL1', 'I.D.3', 'Golf Sportsvan', 'e-Up!', 'I.D.4', 'I.D. Buzz', 'I.D. Vizzion', 'I.D. Space Vizzion', 'Cross Polo', 'Phaeton Lounge', 'Phaeton Study', 'Dasher', 'Chrysler Fifth Avenue', 'Galant', 'Lancer', 'Starion', 'Pajero', 'Chariot', 'Montero', 'Conquest', 'Eterna', 'L200', 'Carisma', 'Outlander', 'Space Wagon', 'L300', 'Eclipse', '3000 GT', 'Diamante', 'Debonair', 'Delica', 'Grandis', 'Sigma', 'Lancer Evolution', 'Mira Gino', 'Tanto Exe', 'Tanto', 'Hijet', 'Terios', 'Move', 'Naked', 'Rocky', 'Coure', 'Move Latte', 'Gran Move', 'Materia', 'Charade', 'Gran Max', 'Sonica', 'Sirion', 'Boon', 'Naked G', 'Sirion 4 Sport', 'Boon Luminas', 'Tanto Custom', 'Boon X4', 'Move Conte', 'Cast', 'Wake', 'Move Canbus', 'Move Conte Custom', 'Move Conte Latte', 'Move Conte Canbus', 'Atrai 7', 'Sirion 4 Track', 'Luce', 'R360', 'R360 Coupe', 'Carol', 'Leeza', 'Kei', 'Delta Wagon', 'YRV', 'Damas II', 'Tanto Exe Custom', 'Tanto Custom Turbo', 'Materia Custom', 'Boon Clasen', 'Copen', 'Wake Custom', 'Damas II Truck', 'Taft', 'Rocky Exe', 'Be-Go', 'Sonica Custom', 'Mira Cocoa', 'Naked Custom', 'Move Canbus Custom', 'Move Conte Canbus Latte', 'R8', 'RS7', 'A3', 'A8', 'TT', 'A5', 'Q7', 'S5', 'S8', 'Q5', 'S4', 'A6', 'A7', 'RS4', 'RS6', 'Q3', 'S7', 'RS Q3', 'RS5', 'RS Q8', '100', 'S1', '90', '200', '4000', '5000', 'V8', '80', 'RS2', 'S3', 'R8 Spyder', 'RS3', 'SQ7', 'SQ5', 'S6', 'Q8', 'Q2', 'RS Q3', 'SQ8', 'S Q7', 'Cabriolet', 'S3 Sportback', 'A4', 'A4 Allroad', 'S4', 'RS4', 'A5 Sportback', 'A5 Coupe', 'A5 Cabriolet', 'S5 Coupe', 'S5 Sportback', 'S5 Cabriolet']\n"
   ]
  },
  {
   "cell_type": "markdown",
   "metadata": {},
   "source": [
    "Create the UI window"
   ]
  },
  {
   "cell_type": "code",
   "execution_count": 109,
   "metadata": {},
   "outputs": [
    {
     "data": {
      "text/plain": [
       "''"
      ]
     },
     "execution_count": 109,
     "metadata": {},
     "output_type": "execute_result"
    }
   ],
   "source": [
    "root = tk.Tk()\n",
    "root.title(\"Car Price Predictor\")"
   ]
  },
  {
   "cell_type": "markdown",
   "metadata": {},
   "source": [
    "Create entry widgets and labels for each column"
   ]
  },
  {
   "cell_type": "code",
   "execution_count": 110,
   "metadata": {},
   "outputs": [],
   "source": [
    "entry_vars = {}\n",
    "for column in selected_columns:\n",
    "    label = tk.Label(root, text=f\"Enter {column}:\")\n",
    "    label.pack()\n",
    "    entry_var = tk.StringVar()\n",
    "\n",
    "    if column == 'Condition':\n",
    "        entry = ttk.Combobox(root, textvariable=entry_var, values=['New', 'Used'])\n",
    "    elif column == 'Vehicle_brand':\n",
    "        entry = ttk.Combobox(root, textvariable=entry_var, values=available_brands)\n",
    "    elif column == 'Vehicle_model':\n",
    "        entry = ttk.Combobox(root, textvariable=entry_var, values=available_models)\n",
    "    elif column == 'Colour':\n",
    "        entry = ttk.Combobox(root, textvariable=entry_var, values=['red', 'green', 'blue', 'grey', 'silver', 'black', 'white', 'other'])\n",
    "    elif column == 'Fuel_type':\n",
    "        entry = ttk.Combobox(root, textvariable=entry_var, values=['Gasoline', 'Gasoline + LPG', 'Diesel', 'Electric', 'Hybrid', 'Gasoline + CNG', 'Hydrogen','Ethanol'])\n",
    "    elif column == 'Transmission':\n",
    "        entry = ttk.Combobox(root, textvariable=entry_var, values=['Manual', 'Automatic'])\n",
    "    elif column == 'Type':\n",
    "        entry = ttk.Combobox(root, textvariable=entry_var, values=['small_cars','coupe','city_cars','convertible','compact','SUV','sedan','station_wagon','minivan'])\n",
    "    elif column == 'Doors_number':\n",
    "        entry = ttk.Combobox(root, textvariable=entry_var, values=['1','2','3','4'])\n",
    "    elif column == 'Production_year':\n",
    "        entry = tk.Entry(root, textvariable=entry_var, validate=\"key\")\n",
    "        entry['validatecommand'] = (entry.register(validate_production_year), '%P')\n",
    "    elif column == 'Mileage_km':\n",
    "        entry = tk.Entry(root, textvariable=entry_var, validate=\"key\")\n",
    "        entry['validatecommand'] = (entry.register(validate_mileage), '%P')\n",
    "    elif column == 'Power_HP':\n",
    "        entry = tk.Entry(root, textvariable=entry_var, validate=\"key\")\n",
    "        entry['validatecommand'] = (entry.register(validate_power), '%P')\n",
    "    elif column == 'Displacement_cm3':\n",
    "        entry = tk.Entry(root, textvariable=entry_var, validate=\"key\")\n",
    "        entry['validatecommand'] = (entry.register(validate_displacement), '%P')  \n",
    "    else:\n",
    "        entry = tk.Entry(root, textvariable=entry_var)\n",
    "    entry.pack()\n",
    "    entry_vars[column] = entry_var"
   ]
  },
  {
   "cell_type": "markdown",
   "metadata": {},
   "source": [
    "Create Predict button"
   ]
  },
  {
   "cell_type": "code",
   "execution_count": 111,
   "metadata": {},
   "outputs": [],
   "source": [
    "\n",
    "predict_button = tk.Button(root, text=\"Predict Price\", command=predict_price)\n",
    "predict_button.pack()\n"
   ]
  },
  {
   "cell_type": "markdown",
   "metadata": {},
   "source": [
    "Create label to display the predicted price"
   ]
  },
  {
   "cell_type": "code",
   "execution_count": 112,
   "metadata": {},
   "outputs": [],
   "source": [
    "result_label = tk.Label(root, text=\"\")\n",
    "result_label.pack()"
   ]
  },
  {
   "cell_type": "markdown",
   "metadata": {},
   "source": [
    "Start the UI event loop"
   ]
  },
  {
   "cell_type": "code",
   "execution_count": 113,
   "metadata": {},
   "outputs": [],
   "source": [
    "root.mainloop()"
   ]
  }
 ],
 "metadata": {
  "kernelspec": {
   "display_name": "Python 3",
   "language": "python",
   "name": "python3"
  },
  "language_info": {
   "codemirror_mode": {
    "name": "ipython",
    "version": 3
   },
   "file_extension": ".py",
   "mimetype": "text/x-python",
   "name": "python",
   "nbconvert_exporter": "python",
   "pygments_lexer": "ipython3",
   "version": "3.11.4"
  },
  "orig_nbformat": 4
 },
 "nbformat": 4,
 "nbformat_minor": 2
}
